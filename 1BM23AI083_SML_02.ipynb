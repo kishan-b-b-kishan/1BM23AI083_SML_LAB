{
 "cells": [
  {
   "cell_type": "code",
   "execution_count": 1,
   "id": "354b9a0f-bf2e-4047-a833-b4f45b2782a1",
   "metadata": {},
   "outputs": [
    {
     "name": "stdout",
     "output_type": "stream",
     "text": [
      "\n",
      "gradient descent results:\n",
      "intercept: 737.2083174141494, slope: 70.9731295821935\n"
     ]
    }
   ],
   "source": [
    "import numpy as np\n",
    "\n",
    "data = {\n",
    "    'x': [15.5, 23.75, 8.00, 17.00, 5.50, 19.00, 24.00, 2.50, 7.50, 11.00,\n",
    "          13.00, 3.75, 25.00, 9.75, 22.00, 18.00, 6.00, 12.50, 2.00, 21.50],\n",
    "    'y': [2158.70, 1678.15, 2316.00, 2061.30, 2207.50, 1708.30, 1784.70,\n",
    "          2575.00, 2357.90, 2256.70, 2165.70, 2399.55, 1779.80, 2336.75,\n",
    "          1765.30, 2053.50, 2414.40, 2200.50, 2654.20, 1753.70]\n",
    "}\n",
    "\n",
    "def graddescent(x, y, initlearnrate=0.001, decayrate=0.001, n_iterations=1000):\n",
    "    m = len(y)\n",
    "    theta = np.random.randn(2) \n",
    "    \n",
    "    for itn in range(n_iterations):\n",
    "        prediction = x.dot(theta)\n",
    "        error = prediction - y\n",
    "        grads = (2/m) * x.T.dot(error)\n",
    "        learnrate = initlearnrate / (1 + decayrate * itn)\n",
    "        theta -= learnrate * grads\n",
    "        \n",
    "        mse = np.mean(error**2)\n",
    "        if mse < 0.1:\n",
    "            break\n",
    "            \n",
    "    return theta\n",
    "\n",
    "x = np.array(data['x'])\n",
    "y = np.array(data['y'])\n",
    "\n",
    "X_b = np.c_[np.ones(len(x)), x] \n",
    "\n",
    "theta_gd = graddescent(X_b, y)\n",
    "\n",
    "print('\\ngradient descent results:')\n",
    "print(f'intercept: {theta_gd[0]}, slope: {theta_gd[1]}')\n",
    "\n"
   ]
  },
  {
   "cell_type": "code",
   "execution_count": null,
   "id": "f380e964-40ca-4b4f-9c3f-a1821f690b0f",
   "metadata": {},
   "outputs": [],
   "source": []
  }
 ],
 "metadata": {
  "kernelspec": {
   "display_name": "Python 3 (ipykernel)",
   "language": "python",
   "name": "python3"
  },
  "language_info": {
   "codemirror_mode": {
    "name": "ipython",
    "version": 3
   },
   "file_extension": ".py",
   "mimetype": "text/x-python",
   "name": "python",
   "nbconvert_exporter": "python",
   "pygments_lexer": "ipython3",
   "version": "3.12.7"
  }
 },
 "nbformat": 4,
 "nbformat_minor": 5
}
